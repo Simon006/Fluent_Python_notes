{
  "nbformat": 4,
  "nbformat_minor": 0,
  "metadata": {
    "colab": {
      "name": "Untitled0.ipynb",
      "provenance": [],
      "collapsed_sections": [],
      "authorship_tag": "ABX9TyNXPth3MsCv/8W40V3Ud4Pg",
      "include_colab_link": true
    },
    "kernelspec": {
      "name": "python3",
      "display_name": "Python 3"
    },
    "language_info": {
      "name": "python"
    }
  },
  "cells": [
    {
      "cell_type": "markdown",
      "metadata": {
        "id": "view-in-github",
        "colab_type": "text"
      },
      "source": [
        "<a href=\"https://colab.research.google.com/github/Simon006/Fluent_Python_notes/blob/main/chapter01-python%E6%95%B0%E6%8D%AE%E7%B1%BB%E5%9E%8B.ipynb\" target=\"_parent\"><img src=\"https://colab.research.google.com/assets/colab-badge.svg\" alt=\"Open In Colab\"/></a>"
      ]
    },
    {
      "cell_type": "markdown",
      "source": [
        "###**Chapter 1** - \"The Python Data Model\"\n",
        "Some useful skills and code exmaples.\n",
        "\n",
        "From the book **\"Fluent Python\"** by Luciano Ramalho (O'Reilly, 2015)  \n",
        "\n",
        "I have collected some interesting codes to summuraize some important knowledge\n",
        "I learned during reading this spectacular book."
      ],
      "metadata": {
        "id": "HPT8XAJg9152"
      }
    },
    {
      "cell_type": "code",
      "execution_count": 2,
      "metadata": {
        "colab": {
          "base_uri": "https://localhost:8080/"
        },
        "id": "6_LVMuOn9zhR",
        "outputId": "2a2ecc61-33cc-470e-e130-9849ae3ff143"
      },
      "outputs": [
        {
          "output_type": "stream",
          "name": "stdout",
          "text": [
            "52\n",
            "Card(rank='3', suit='spades')\n",
            "[Card(rank='7', suit='spades'), Card(rank='7', suit='diamonds'), Card(rank='7', suit='clubs'), Card(rank='7', suit='hearts')]\n",
            "Card(rank='7', suit='diamonds')\n"
          ]
        }
      ],
      "source": [
        "import collections\n",
        "import random\n",
        "\n",
        "Card = collections.namedtuple('Card', ['rank', 'suit'])\n",
        "\n",
        "class FrenchDeck:\n",
        "    ranks = [str(n) for n in range(2, 11)] + list('JQKA')\n",
        "    suits = 'spades diamonds clubs hearts'.split()\n",
        "\n",
        "    def __init__(self):\n",
        "        self._cards = [Card(rank, suit) for suit in self.suits for rank in self.ranks]\n",
        "\n",
        "    def __len__(self):\n",
        "        return len(self._cards)\n",
        "\n",
        "    def __getitem__(self, position):\n",
        "        return self._cards[position]\n",
        "\n",
        "deck = FrenchDeck()\n",
        "# implement __length__ for len\n",
        "print(len(deck))\n",
        "# implement __getitem__ for the index\n",
        "print(deck[1])\n",
        "print(deck[5::13])\n",
        "print(random.choice(deck))"
      ]
    },
    {
      "cell_type": "markdown",
      "source": [
        "我们可以通过第一章学到的知识实现**python风格**的对象创建，实现了创建对象支持python内置函数,这很好的保持了python语言的一致性。"
      ],
      "metadata": {
        "id": "-JlarWBWC6Nn"
      }
    }
  ]
}