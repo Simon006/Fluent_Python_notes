{
  "nbformat": 4,
  "nbformat_minor": 0,
  "metadata": {
    "colab": {
      "name": "chapter02_序列构成的数组.ipynb",
      "provenance": [],
      "collapsed_sections": [],
      "authorship_tag": "ABX9TyNm6F6SeXaRZcvDSNayJxSV",
      "include_colab_link": true
    },
    "kernelspec": {
      "name": "python3",
      "display_name": "Python 3"
    },
    "language_info": {
      "name": "python"
    }
  },
  "cells": [
    {
      "cell_type": "markdown",
      "metadata": {
        "id": "view-in-github",
        "colab_type": "text"
      },
      "source": [
        "<a href=\"https://colab.research.google.com/github/Simon006/Fluent_Python_notes/blob/main/chapter02_%E5%BA%8F%E5%88%97%E6%9E%84%E6%88%90%E7%9A%84%E6%95%B0%E7%BB%84.ipynb\" target=\"_parent\"><img src=\"https://colab.research.google.com/assets/colab-badge.svg\" alt=\"Open In Colab\"/></a>"
      ]
    },
    {
      "cell_type": "code",
      "execution_count": null,
      "metadata": {
        "colab": {
          "base_uri": "https://localhost:8080/"
        },
        "id": "jRI8IDxuHfWw",
        "outputId": "2c849ee5-f68a-456d-8cd6-f3d93b57cf25"
      },
      "outputs": [
        {
          "output_type": "stream",
          "name": "stdout",
          "text": [
            "a: [27969, 30021, 30340, 112, 121, 116, 104, 111, 110, 35835, 20070, 31508, 35760]\n",
            "b: (27969, 30021, 30340, 112, 121, 116, 104, 111, 110, 35835, 20070, 31508, 35760)\n"
          ]
        }
      ],
      "source": [
        "# 列表推导式和生成器表达式\n",
        "symbols = \"流畅的python读书笔记\"\n",
        "a = [ord(symbol) for symbol in symbols]\n",
        "b = tuple(ord(symbol) for symbol in symbols)\n",
        "print(\"a:\",a)\n",
        "print(\"b:\",b)"
      ]
    },
    {
      "cell_type": "code",
      "source": [
        "first, *others, last = (1, 2, 3, 4, 5)\n",
        "print(first, others, last)\n",
        "#假如不使用*other的话就会unpack too many报错"
      ],
      "metadata": {
        "colab": {
          "base_uri": "https://localhost:8080/"
        },
        "id": "iki_eaSwIE8b",
        "outputId": "d1328787-4f0a-4edb-e1f9-d95977d86084"
      },
      "execution_count": null,
      "outputs": [
        {
          "output_type": "stream",
          "name": "stdout",
          "text": [
            "1 [2, 3, 4] 5\n"
          ]
        }
      ]
    },
    {
      "cell_type": "code",
      "source": [
        "colors =['black','white']\n",
        "sizes = ['S','M','L']\n",
        "tshirts = [(color,size) for color in colors for size in sizes ]\n",
        "print(tshirts)\n",
        "\n",
        "for color in colors:\n",
        "  for size in sizes:\n",
        "    print((color,size))\n",
        "\n",
        "for tshirt in (\"%s %s\"%(c,s)for c in colors for s in sizes):\n",
        "  print(tshirt)    "
      ],
      "metadata": {
        "colab": {
          "base_uri": "https://localhost:8080/"
        },
        "id": "D53sUu4lJoYT",
        "outputId": "d8ffcaa2-89c3-46f0-d018-7f7557435c01"
      },
      "execution_count": null,
      "outputs": [
        {
          "output_type": "stream",
          "name": "stdout",
          "text": [
            "[('black', 'S'), ('black', 'M'), ('black', 'L'), ('white', 'S'), ('white', 'M'), ('white', 'L')]\n",
            "('black', 'S')\n",
            "('black', 'M')\n",
            "('black', 'L')\n",
            "('white', 'S')\n",
            "('white', 'M')\n",
            "('white', 'L')\n",
            "black S\n",
            "black M\n",
            "black L\n",
            "white S\n",
            "white M\n",
            "white L\n"
          ]
        }
      ]
    },
    {
      "cell_type": "markdown",
      "source": [
        "生成器表达式**逐个产出元素**，不会一次性产出具有6个T恤式样的列表。在这一章学到的是用生成器来**初始化**除了列表以外的**序列**，以及如何使用它避免额外**内存占用**。\n",
        "\n",
        "python中有另外一个相当重要的序列类型：元组(tuple)，许多入门书籍都说元组是不可变列表，但它还有另外一个重要的的特征，就是它所含有元素的总数和他们的位置，这些信息其实在元组中举足轻重。"
      ],
      "metadata": {
        "id": "veugpAE-Lp8o"
      }
    },
    {
      "cell_type": "code",
      "source": [
        "city,year,pop,chg,area = ('Tokyo',2022,78917,0.88,9923)\n",
        "print(city)"
      ],
      "metadata": {
        "id": "CNEn8h_HnuoF",
        "colab": {
          "base_uri": "https://localhost:8080/"
        },
        "outputId": "745ae6b0-ad0c-4fd6-8283-b1f4fc36582d"
      },
      "execution_count": 2,
      "outputs": [
        {
          "output_type": "stream",
          "name": "stdout",
          "text": [
            "Tokyo\n"
          ]
        }
      ]
    },
    {
      "cell_type": "markdown",
      "source": [
        "上面的示例代码就体现了元组这种存贮位置信息的能力，通过元组的拆包，采用平行赋值的形式，来对可迭代对象的元素，一并赋值到对应的变量中。\n",
        "\n",
        "还有一个很重要的点，就是元组的本质不在圆括号，他的结构形式关键点在于**逗号**！"
      ],
      "metadata": {
        "id": "tDUxPZSZslv_"
      }
    },
    {
      "cell_type": "code",
      "source": [
        "exmaple_a = 1,2,3,4,5\n",
        "print(type(exmaple_a))"
      ],
      "metadata": {
        "colab": {
          "base_uri": "https://localhost:8080/"
        },
        "id": "dSeKkQzUsdEk",
        "outputId": "48dc6048-adb1-42c6-ff25-783f5b37d9e2"
      },
      "execution_count": 3,
      "outputs": [
        {
          "output_type": "stream",
          "name": "stdout",
          "text": [
            "<class 'tuple'>\n"
          ]
        }
      ]
    },
    {
      "cell_type": "markdown",
      "source": [
        "另一个值得注意的优雅写法是不需要中间变量交换两个变量的值，很**简单却很实用**。其中暗含了元组的**拆包原理**。"
      ],
      "metadata": {
        "id": "5UEB_Rd4tfhG"
      }
    },
    {
      "cell_type": "code",
      "source": [
        "a=1\n",
        "b=2\n",
        "a,b = b,a"
      ],
      "metadata": {
        "id": "1PqCq9a3tcOi"
      },
      "execution_count": null,
      "outputs": []
    },
    {
      "cell_type": "markdown",
      "source": [
        "元组有一个相当实用的分支，叫**具名元组**，\n",
        "\n",
        "\n",
        "\n",
        "\n",
        "\n"
      ],
      "metadata": {
        "id": "N2BLt-cVvZf9"
      }
    },
    {
      "cell_type": "code",
      "source": [
        "from collections import namedtuple\n",
        "City = namedtuple('City','name country population coordinates')\n",
        "Beijing = City('Beijing','China',2154,(39.9,116.33))\n",
        "print(\"Beijing.population:\",Beijing.population)\n",
        "print(Beijing[1])"
      ],
      "metadata": {
        "colab": {
          "base_uri": "https://localhost:8080/"
        },
        "id": "1ET9N7-fv30v",
        "outputId": "b6b59a7b-578f-4be2-a56e-d81d571d6be9"
      },
      "execution_count": 8,
      "outputs": [
        {
          "output_type": "stream",
          "name": "stdout",
          "text": [
            "Beijing.population: 2154\n",
            "China\n"
          ]
        }
      ]
    },
    {
      "cell_type": "markdown",
      "source": [
        "具名元组的强大属性除了从元组那里继承而来的，还有自己专有的方法，例如："
      ],
      "metadata": {
        "id": "U7XknNHwxhse"
      }
    },
    {
      "cell_type": "code",
      "source": [
        "City._fields\n",
        "#输出类包含的所有字段名称的元组"
      ],
      "metadata": {
        "colab": {
          "base_uri": "https://localhost:8080/"
        },
        "id": "-uTu1LMdv950",
        "outputId": "2e87fc7b-9fa2-4be8-b410-cc0b5a9cd788"
      },
      "execution_count": 9,
      "outputs": [
        {
          "output_type": "execute_result",
          "data": {
            "text/plain": [
              "('name', 'country', 'population', 'coordinates')"
            ]
          },
          "metadata": {},
          "execution_count": 9
        }
      ]
    },
    {
      "cell_type": "code",
      "source": [
        "Tokyo = ('Tokyo','JP',36.933,(35.68,139.689))\n",
        "City._make(Tokyo)\n",
        "#_make()方法可以通过接受一个可迭代对象生成一个类实例,下列一个等价写法。\n",
        "City(*Tokyo)"
      ],
      "metadata": {
        "colab": {
          "base_uri": "https://localhost:8080/"
        },
        "id": "n6V41F3Yx0ca",
        "outputId": "7317713e-ffd0-43c9-f2b8-19c37f0ee0b1"
      },
      "execution_count": 16,
      "outputs": [
        {
          "output_type": "execute_result",
          "data": {
            "text/plain": [
              "City(name='Tokyo', country='JP', population=36.933, coordinates=(35.68, 139.689))"
            ]
          },
          "metadata": {},
          "execution_count": 16
        }
      ]
    },
    {
      "cell_type": "markdown",
      "source": [
        "tuple作为不可变元组的特征想多更多人知晓，因此在这里也不对它的属性和方法赘述。"
      ],
      "metadata": {
        "id": "E8xHsHRdzhWE"
      }
    },
    {
      "cell_type": "code",
      "source": [
        ""
      ],
      "metadata": {
        "id": "uIBHjGCxy_Hu"
      },
      "execution_count": null,
      "outputs": []
    }
  ]
}