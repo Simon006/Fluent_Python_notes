{
  "nbformat": 4,
  "nbformat_minor": 0,
  "metadata": {
    "colab": {
      "name": "chapter02_序列构成的数组（续）.ipynb",
      "provenance": [],
      "authorship_tag": "ABX9TyMnFdP+RF7Gadl9leMVTv8I",
      "include_colab_link": true
    },
    "kernelspec": {
      "name": "python3",
      "display_name": "Python 3"
    },
    "language_info": {
      "name": "python"
    }
  },
  "cells": [
    {
      "cell_type": "markdown",
      "metadata": {
        "id": "view-in-github",
        "colab_type": "text"
      },
      "source": [
        "<a href=\"https://colab.research.google.com/github/Simon006/Fluent_Python_notes/blob/main/chapter02_%E5%BA%8F%E5%88%97%E6%9E%84%E6%88%90%E7%9A%84%E6%95%B0%E7%BB%84%EF%BC%88%E7%BB%AD%EF%BC%89.ipynb\" target=\"_parent\"><img src=\"https://colab.research.google.com/assets/colab-badge.svg\" alt=\"Open In Colab\"/></a>"
      ]
    },
    {
      "cell_type": "markdown",
      "source": [
        "python中像元组、列表和字符串这些序列类型都支持切片操作，这里给出示例说明切片和区间忽略最后一个元素的好处。"
      ],
      "metadata": {
        "id": "wRFT9RNgjlHl"
      }
    },
    {
      "cell_type": "code",
      "execution_count": 1,
      "metadata": {
        "colab": {
          "base_uri": "https://localhost:8080/"
        },
        "id": "mE4SL5_SiY73",
        "outputId": "5a69c4c7-f29c-4a1c-b3fd-e8e9d519a38d"
      },
      "outputs": [
        {
          "output_type": "stream",
          "name": "stdout",
          "text": [
            "range(0, 3)\n",
            "[1, 2, 3]\n",
            "[4, 5, 6, 7]\n"
          ]
        }
      ],
      "source": [
        "my_list = [1,2,3,4,5,6,7]\n",
        "print(range(3))     #两种表达皆返回3个元素\n",
        "print(my_list[:3])\n",
        "\n",
        "print(my_list[3:])"
      ]
    },
    {
      "cell_type": "markdown",
      "source": [
        "python还有对对象切片的功能"
      ],
      "metadata": {
        "id": "UUTI2O_Kkgg3"
      }
    },
    {
      "cell_type": "code",
      "source": [
        "s = 'bicycle'\n",
        "print(s[::-1])\n",
        "print(s[::3])\n",
        "print(s[::-2])"
      ],
      "metadata": {
        "colab": {
          "base_uri": "https://localhost:8080/"
        },
        "id": "hsH7CCyVkf7C",
        "outputId": "a7a82b1b-95a8-4c44-e18e-8da2ba8c19f2"
      },
      "execution_count": 2,
      "outputs": [
        {
          "output_type": "stream",
          "name": "stdout",
          "text": [
            "elcycib\n",
            "bye\n",
            "eccb\n"
          ]
        }
      ]
    },
    {
      "cell_type": "markdown",
      "source": [
        "切片放在赋值语句的左边，或者作为del对象的对象，就可以是西安对序列进行**嫁接，切除**或者**修改**操作。"
      ],
      "metadata": {
        "id": "Ik8OsXbkmQ6U"
      }
    },
    {
      "cell_type": "code",
      "source": [
        "list1=list(range(10))\n",
        "print(list1)\n",
        "list1[2:5] = [30,20]\n",
        "print(list1)\n",
        " #可以发现切片操作中完全替换了三元素切片和二元素列表"
      ],
      "metadata": {
        "colab": {
          "base_uri": "https://localhost:8080/"
        },
        "id": "DB23Y4l5kcSK",
        "outputId": "fe01b2a5-452c-4333-e68d-fb0f5bda5609"
      },
      "execution_count": 4,
      "outputs": [
        {
          "output_type": "stream",
          "name": "stdout",
          "text": [
            "[0, 1, 2, 3, 4, 5, 6, 7, 8, 9]\n",
            "[0, 1, 30, 20, 5, 6, 7, 8, 9]\n"
          ]
        }
      ]
    },
    {
      "cell_type": "markdown",
      "source": [
        "需要注明的是，这种切片替代操作需要**右边是可迭代对象**，单独的对象需要转化为可迭代的序列。"
      ],
      "metadata": {
        "id": "eZVP9VXDnMY7"
      }
    },
    {
      "cell_type": "code",
      "source": [
        "#list1[2:5]=1  会报错\n",
        "list1[2:5]=[1]\n",
        "print(list1)"
      ],
      "metadata": {
        "colab": {
          "base_uri": "https://localhost:8080/"
        },
        "id": "b27NQ1ROm41l",
        "outputId": "a0cc4648-e5a8-43fc-8b1a-32af692af0a2"
      },
      "execution_count": 5,
      "outputs": [
        {
          "output_type": "stream",
          "name": "stdout",
          "text": [
            "[0, 1, 1, 6, 7, 8, 9]\n"
          ]
        }
      ]
    },
    {
      "cell_type": "markdown",
      "source": [
        "序列对+和*操作的支持，他们遵循不修改原有操作对象，构建一个全新序列的规律。见下例子："
      ],
      "metadata": {
        "id": "2we_P8VEn2bc"
      }
    },
    {
      "cell_type": "code",
      "source": [
        "a='apple'\n",
        "b=5*a\n",
        "print(\"id_a:\",id(a))\n",
        "print(\"id_5*a:\",id(b))"
      ],
      "metadata": {
        "colab": {
          "base_uri": "https://localhost:8080/"
        },
        "id": "mPpqh-YDn1pL",
        "outputId": "5e351603-b5d0-45fa-86fe-16274152db2d"
      },
      "execution_count": 7,
      "outputs": [
        {
          "output_type": "stream",
          "name": "stdout",
          "text": [
            "id_a: 140349968910320\n",
            "id_5*a: 140349968706416\n"
          ]
        }
      ]
    },
    {
      "cell_type": "markdown",
      "source": [
        "这里面有一个细节，加入想在序列a中存在对其他可变对象的引用的话，那么a*n将生成n个对a的引用，这导致没有达到预期的效果。"
      ],
      "metadata": {
        "id": "zhVyYBKGo-Xl"
      }
    },
    {
      "cell_type": "code",
      "source": [
        "my_list1 = [['_']*3for i in range(3)]\n",
        "my_list1[0][1]='x'\n",
        "my_list2 = [['_']*3]*3\n",
        "my_list2[0][1] = 'x'\n",
        "print(my_list1)\n",
        "print(my_list2) "
      ],
      "metadata": {
        "colab": {
          "base_uri": "https://localhost:8080/"
        },
        "id": "fpLa1b5Wo9_O",
        "outputId": "bddda99a-fbf7-4700-b695-8b61b302dd51"
      },
      "execution_count": 8,
      "outputs": [
        {
          "output_type": "stream",
          "name": "stdout",
          "text": [
            "[['_', 'x', '_'], ['_', '_', '_'], ['_', '_', '_']]\n",
            "[['_', 'x', '_'], ['_', 'x', '_'], ['_', 'x', '_']]\n"
          ]
        }
      ]
    },
    {
      "cell_type": "markdown",
      "source": [
        "我们来看list1和list2的等价代码"
      ],
      "metadata": {
        "id": "XskjHRrkp994"
      }
    },
    {
      "cell_type": "code",
      "source": [
        "a=[]\n",
        "for i in range(3):\n",
        "  row = ['_']*3\n",
        "  a.append(row)\n",
        "print(a)\n",
        "a[0][1]='x'\n",
        "print(a)   "
      ],
      "metadata": {
        "colab": {
          "base_uri": "https://localhost:8080/"
        },
        "id": "TTP6TY2DqaXi",
        "outputId": "9b4dc3e2-be74-4f31-daa0-55d53a7a8af5"
      },
      "execution_count": 14,
      "outputs": [
        {
          "output_type": "stream",
          "name": "stdout",
          "text": [
            "[['_', '_', '_'], ['_', '_', '_'], ['_', '_', '_']]\n",
            "[['_', 'x', '_'], ['_', '_', '_'], ['_', '_', '_']]\n"
          ]
        }
      ]
    },
    {
      "cell_type": "code",
      "source": [
        "row = ['_']*3\n",
        "a = []\n",
        "for i in range(3):\n",
        "  a.append(row)\n",
        "print(a)\n",
        "a[0][1]='x'\n",
        "print(a)  "
      ],
      "metadata": {
        "colab": {
          "base_uri": "https://localhost:8080/"
        },
        "id": "P_suXThGnriu",
        "outputId": "82aa33a8-c1a4-467b-cfb3-466987dab8da"
      },
      "execution_count": 15,
      "outputs": [
        {
          "output_type": "stream",
          "name": "stdout",
          "text": [
            "[['_', '_', '_'], ['_', '_', '_'], ['_', '_', '_']]\n",
            "[['_', 'x', '_'], ['_', 'x', '_'], ['_', 'x', '_']]\n"
          ]
        }
      ]
    },
    {
      "cell_type": "markdown",
      "source": [
        "同理+和\\*有着相似相近的性质，可以相互类比类推，甚至+=和\\*=也有着类似的性质，书中用巩固都的例子展示了对不可变序列进行**重复拼接操作的时候效率会很低**，因为每次都产生了一个新的对象，需要解释器将原来对象中的元素先复制到新的对象中，再追加新的元素。"
      ],
      "metadata": {
        "id": "m1cJwsTZqzON"
      }
    },
    {
      "cell_type": "code",
      "source": [
        "l=[1,2,3]\n",
        "print(\"id_l\",id(l))\n",
        "l*=3\n",
        "print(\"id_l*3:\",id(l))\n",
        "\n",
        "t=(1,2,3)\n",
        "print(\"id_t\",id(t))\n",
        "t*=3\n",
        "print(\"id_t*3\",id(t))\n"
      ],
      "metadata": {
        "colab": {
          "base_uri": "https://localhost:8080/"
        },
        "id": "cy1Y8GdcqH-3",
        "outputId": "095e796d-8c4e-407d-b681-d940295ec9a4"
      },
      "execution_count": 18,
      "outputs": [
        {
          "output_type": "stream",
          "name": "stdout",
          "text": [
            "id_l 140349968067392\n",
            "id_l*3: 140349968067392\n",
            "id_t 140349968989712\n",
            "id_t*3 140349968878672\n"
          ]
        }
      ]
    },
    {
      "cell_type": "markdown",
      "source": [
        "我们可以从这些例子中学到元组的不可变性的表现，但书中的例子更有提到，在元组中存储可变序列是相当不妙的事。\n",
        "书中提到虽然列表既灵活又简单，但面对各类需求时，我们可能会有更好的选择。比如，要存放 1000 万个浮点数的话，**数组（array）**的效率要高得多，因为数组在背后存的并不是 float 对象，而是数字的机器翻译，也就是字节表述。这一点就跟 C 语言中的数组一样。再比如说，如果需要频繁对序列做先进先出的操作，deque（双端队列）的速度应该会更快。"
      ],
      "metadata": {
        "id": "D9U-HO6xsWby"
      }
    },
    {
      "cell_type": "code",
      "source": [
        "from collections import deque\n",
        "\n",
        "dq=deque(range(10),maxlen=10)\n",
        "print(dq)\n",
        "\n",
        "dq.rotate(3)\n",
        "print(dq)\n",
        "#队列的旋转参数n，大于零的时候队里最右边n个元素会被移动到队列的左边，同理类似有n小于零时情形\n",
        "dq.rotate(-4)\n",
        "print(dq)\n",
        "\n",
        "#添加元素操作,从右、从左。\n",
        "dq.extend([1,2,3])\n",
        "print(dq)\n",
        "dq.extendleft([3,2,1])\n",
        "print(dq)\n"
      ],
      "metadata": {
        "colab": {
          "base_uri": "https://localhost:8080/"
        },
        "id": "iFHc9Phluj9W",
        "outputId": "4b96d7de-46b4-408e-9ddc-901e99efd7fb"
      },
      "execution_count": 24,
      "outputs": [
        {
          "output_type": "stream",
          "name": "stdout",
          "text": [
            "deque([0, 1, 2, 3, 4, 5, 6, 7, 8, 9], maxlen=10)\n",
            "deque([7, 8, 9, 0, 1, 2, 3, 4, 5, 6], maxlen=10)\n",
            "deque([1, 2, 3, 4, 5, 6, 7, 8, 9, 0], maxlen=10)\n",
            "deque([4, 5, 6, 7, 8, 9, 0, 1, 2, 3], maxlen=10)\n",
            "deque([1, 2, 3, 4, 5, 6, 7, 8, 9, 0], maxlen=10)\n"
          ]
        }
      ]
    },
    {
      "cell_type": "markdown",
      "source": [
        "当我们要引用字节数据的某个片段（注意是对象内的某一个片段）的时候，可用内存视图直接引用目标内存，**没有额外的复制行为**，因此，可读取最新的数据，在目标对象允许的情况下，还可以执行写操作。若是还想要把目标复制出来，可以用tobytes、tolist 方法，复制后的**数据与原对象无关**，同样不会影响视图本身。\n",
        "内存视图是泛化和去数学化的 NumPy 数组。它让你在不需要复制内容的前提下，在数据结构之间共享内存。其中数据结构可以是任何形式，比如 PIL 图片、SQLite 数据库和 NumPy 的数组，等等。这个功能在处理大型数据集合的时候非常重要"
      ],
      "metadata": {
        "id": "e2FLh5s2xYTy"
      }
    },
    {
      "cell_type": "code",
      "source": [
        "#memoryview.cast 的概念跟数组模块类似，能用不同的方式读写同一块内存数据，而且内容字节不会随意移动。\n",
        "import array\n",
        "import numpy as np\n",
        "from sklearn.neighbors import KDTree\n",
        "from time import time\n",
        "\n",
        "\n",
        "arr = array.array('h', [1, 2, 3])\n",
        "memv_arr = memoryview(arr)\n",
        "# 把 signed short 的内存使用 char 来呈现\n",
        "memv_char = memv_arr.cast('B') \n",
        "print('Short', memv_arr.tolist())\n",
        "print('Char', memv_char.tolist())\n",
        "memv_char[1] = 2  # 更改 array 第一个数的高位字节\n",
        "# 0x1000000001\n",
        "print(memv_arr.tolist(), arr)\n",
        "print('-' * 10)\n",
        "bytestr = b'123'\n",
        "# bytes 是不允许更改的\n",
        "try:\n",
        "    bytestr[1] = '3'\n",
        "except TypeError as e:\n",
        "    print(repr(e))\n",
        "memv_byte = memoryview(bytestr)\n",
        "print('Memv_byte', memv_byte.tolist())\n",
        "# 同样这块内存也是只读的\n",
        "try:\n",
        "    memv_byte[1] = 1\n",
        "except TypeError as e:\n",
        "    print(repr(e))\n",
        "\n",
        "\n",
        "pts = np.random.randn(10, 3)\n",
        "print(\"pts:\", pts)\n",
        "# t1 = time()\n",
        "tree = KDTree(pts)\n",
        "# print(\"kdtree build time:\", time() - t1)\n",
        "pts_rebuild_copy = np.array(tree.data)\n",
        "pts_rebuild_nocopy = np.array(tree.data, copy=False)\n",
        "pts_rebuild_copy[0] = [1, 1, 1]\n",
        "print(\"pts_1:\", pts)\n",
        "pts_rebuild_nocopy[1] = [1, 1, 1]\n",
        "print(\"pts_2:\", pts)\n"
      ],
      "metadata": {
        "colab": {
          "base_uri": "https://localhost:8080/"
        },
        "id": "koG4TOhpwcAe",
        "outputId": "c98a77d6-287c-42ab-b791-9d7e1e8f3a92"
      },
      "execution_count": 26,
      "outputs": [
        {
          "output_type": "stream",
          "name": "stdout",
          "text": [
            "Short [1, 2, 3]\n",
            "Char [1, 0, 2, 0, 3, 0]\n",
            "[513, 2, 3] array('h', [513, 2, 3])\n",
            "----------\n",
            "TypeError(\"'bytes' object does not support item assignment\")\n",
            "Memv_byte [49, 50, 51]\n",
            "TypeError('cannot modify read-only memory')\n",
            "pts: [[ 0.82874274 -1.75716543  0.96411637]\n",
            " [ 0.94011531 -0.97113615  0.20303474]\n",
            " [ 0.60825124  0.41945095 -0.09165098]\n",
            " [-0.45646365  0.1456098  -0.67319475]\n",
            " [-1.32831719 -2.14648601  1.7806107 ]\n",
            " [ 1.09733725  0.4233083   1.30916484]\n",
            " [ 0.08862721 -0.16801569 -0.674484  ]\n",
            " [ 0.02444206 -0.04779311  0.44813211]\n",
            " [-0.48934372 -1.1426362  -0.29665071]\n",
            " [ 1.44814859 -0.04869548  0.91531527]]\n",
            "pts_1: [[ 0.82874274 -1.75716543  0.96411637]\n",
            " [ 0.94011531 -0.97113615  0.20303474]\n",
            " [ 0.60825124  0.41945095 -0.09165098]\n",
            " [-0.45646365  0.1456098  -0.67319475]\n",
            " [-1.32831719 -2.14648601  1.7806107 ]\n",
            " [ 1.09733725  0.4233083   1.30916484]\n",
            " [ 0.08862721 -0.16801569 -0.674484  ]\n",
            " [ 0.02444206 -0.04779311  0.44813211]\n",
            " [-0.48934372 -1.1426362  -0.29665071]\n",
            " [ 1.44814859 -0.04869548  0.91531527]]\n",
            "pts_2: [[ 0.82874274 -1.75716543  0.96411637]\n",
            " [ 1.          1.          1.        ]\n",
            " [ 0.60825124  0.41945095 -0.09165098]\n",
            " [-0.45646365  0.1456098  -0.67319475]\n",
            " [-1.32831719 -2.14648601  1.7806107 ]\n",
            " [ 1.09733725  0.4233083   1.30916484]\n",
            " [ 0.08862721 -0.16801569 -0.674484  ]\n",
            " [ 0.02444206 -0.04779311  0.44813211]\n",
            " [-0.48934372 -1.1426362  -0.29665071]\n",
            " [ 1.44814859 -0.04869548  0.91531527]]\n"
          ]
        }
      ]
    },
    {
      "cell_type": "markdown",
      "source": [
        "可见，tree.data就是指向内存中存放pts的地址，np.array(tree.data, copy=True)是对pts的deepcopy而np.array(tree.data, copy=False)是对pts的浅拷贝，memoryview.cast方法就相当于不改变内存位置下的**深拷贝**。可以精确修改一个数组的字节，并将**内存打包返回**。"
      ],
      "metadata": {
        "id": "jIOiCpiDy9Iz"
      }
    },
    {
      "cell_type": "code",
      "source": [
        ""
      ],
      "metadata": {
        "id": "VAmhjA3Pybgb"
      },
      "execution_count": null,
      "outputs": []
    }
  ]
}