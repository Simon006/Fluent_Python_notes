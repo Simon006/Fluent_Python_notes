{
  "nbformat": 4,
  "nbformat_minor": 0,
  "metadata": {
    "colab": {
      "name": "chapter03_字典与集合（续）.ipynb",
      "provenance": [],
      "authorship_tag": "ABX9TyNms63ih2gKLK5L69p2+unL",
      "include_colab_link": true
    },
    "kernelspec": {
      "name": "python3",
      "display_name": "Python 3"
    },
    "language_info": {
      "name": "python"
    }
  },
  "cells": [
    {
      "cell_type": "markdown",
      "metadata": {
        "id": "view-in-github",
        "colab_type": "text"
      },
      "source": [
        "<a href=\"https://colab.research.google.com/github/Simon006/Fluent_Python_notes/blob/main/chapter03_%E5%AD%97%E5%85%B8%E4%B8%8E%E9%9B%86%E5%90%88%EF%BC%88%E7%BB%AD%EF%BC%89.ipynb\" target=\"_parent\"><img src=\"https://colab.research.google.com/assets/colab-badge.svg\" alt=\"Open In Colab\"/></a>"
      ]
    },
    {
      "cell_type": "markdown",
      "source": [
        "###不可变映射类型\n",
        "- >正常来讲，标准库的里所有映射类型都是可变的，因为value值一般不是可散列对象的要求，但我们的**客户总是奇葩**的，有时候，我们需要不能让用户错误地修改某个映射，譬如Pingo.io，里面的数据对应的是GPIO物理阵脚的信息，我们不希望用户的疏忽更改这里的信息，因为硬件方面的东西不会受软件的影响，假如修改了映射中的信息，那么物理上的元件就没法对上号。"
      ],
      "metadata": {
        "id": "lIknHNHuFopP"
      }
    },
    {
      "cell_type": "markdown",
      "source": [
        "###MaxppingProxyType\n",
        "- > python3.3之后在types模块引入了一个名叫MappingProxyType的封装类。它输入一个映射，可以返回一个**只读的**映射视图。而且这是个**动图**，对原映射的改动可以通过这个视图观察到。 "
      ],
      "metadata": {
        "id": "iId3ZAV9Gq26"
      }
    },
    {
      "cell_type": "code",
      "execution_count": 3,
      "metadata": {
        "colab": {
          "base_uri": "https://localhost:8080/"
        },
        "id": "vG8J96FsEsnY",
        "outputId": "a25169b4-7a71-47a1-ede1-a610a78bf923"
      },
      "outputs": [
        {
          "output_type": "stream",
          "name": "stdout",
          "text": [
            "{1: 'A'}\n"
          ]
        }
      ],
      "source": [
        "from types import MappingProxyType\n",
        "d = {1:'A'}\n",
        "d_proxy = MappingProxyType(d)\n",
        "print(d_proxy)"
      ]
    },
    {
      "cell_type": "code",
      "source": [
        "d_proxy[1]"
      ],
      "metadata": {
        "colab": {
          "base_uri": "https://localhost:8080/",
          "height": 35
        },
        "id": "97X188TVH45N",
        "outputId": "b9c30cd3-08b8-42c5-aa8e-e7ce62d1bb8a"
      },
      "execution_count": 4,
      "outputs": [
        {
          "output_type": "execute_result",
          "data": {
            "text/plain": [
              "'A'"
            ],
            "application/vnd.google.colaboratory.intrinsic+json": {
              "type": "string"
            }
          },
          "metadata": {},
          "execution_count": 4
        }
      ]
    },
    {
      "cell_type": "code",
      "source": [
        "d_proxy[2] = 'B'\n",
        "#试图给视图添加值得时候就会报错"
      ],
      "metadata": {
        "colab": {
          "base_uri": "https://localhost:8080/",
          "height": 191
        },
        "id": "nKSESj7-IF-O",
        "outputId": "eec45f72-37bb-4cc6-a175-1b83472f00d1"
      },
      "execution_count": 5,
      "outputs": [
        {
          "output_type": "error",
          "ename": "TypeError",
          "evalue": "ignored",
          "traceback": [
            "\u001b[0;31m---------------------------------------------------------------------------\u001b[0m",
            "\u001b[0;31mTypeError\u001b[0m                                 Traceback (most recent call last)",
            "\u001b[0;32m<ipython-input-5-8dce2c61bf99>\u001b[0m in \u001b[0;36m<module>\u001b[0;34m()\u001b[0m\n\u001b[0;32m----> 1\u001b[0;31m \u001b[0md_proxy\u001b[0m\u001b[0;34m[\u001b[0m\u001b[0;36m2\u001b[0m\u001b[0;34m]\u001b[0m \u001b[0;34m=\u001b[0m \u001b[0;34m'B'\u001b[0m\u001b[0;34m\u001b[0m\u001b[0;34m\u001b[0m\u001b[0m\n\u001b[0m\u001b[1;32m      2\u001b[0m \u001b[0;31m#试图给视图添加值得时候就会报错\u001b[0m\u001b[0;34m\u001b[0m\u001b[0;34m\u001b[0m\u001b[0;34m\u001b[0m\u001b[0m\n",
            "\u001b[0;31mTypeError\u001b[0m: 'mappingproxy' object does not support item assignment"
          ]
        }
      ]
    },
    {
      "cell_type": "code",
      "source": [
        "d[2] = 'B'\n",
        "print(d_proxy[2])\n",
        "#通过修改原先的字典就可以修改视图\n",
        "#这里体现得是视图的动态性"
      ],
      "metadata": {
        "colab": {
          "base_uri": "https://localhost:8080/"
        },
        "id": "TEuHQVj8IUN0",
        "outputId": "5dc62af3-5b22-40b4-cf97-8de62a507fc5"
      },
      "execution_count": 7,
      "outputs": [
        {
          "output_type": "stream",
          "name": "stdout",
          "text": [
            "B\n"
          ]
        }
      ]
    },
    {
      "cell_type": "markdown",
      "source": [
        "###集合\n",
        "集合的本质是许多唯一对象的聚集，因此用集合可以去重。而集合的元素必须是可散列的，需要注意的是**set类型本身是不可散列的**，frozenset是可散列的。\n",
        "看下面例子："
      ],
      "metadata": {
        "id": "k-YP11mfI8uG"
      }
    },
    {
      "cell_type": "code",
      "source": [
        "l = ['spam','spam','eggs','eggs']\n",
        "print(list(set(l)))"
      ],
      "metadata": {
        "colab": {
          "base_uri": "https://localhost:8080/"
        },
        "id": "yFUAddr1IlA8",
        "outputId": "d73486c1-e408-458c-c6b6-8d5b155ff579"
      },
      "execution_count": 8,
      "outputs": [
        {
          "output_type": "stream",
          "name": "stdout",
          "text": [
            "['spam', 'eggs']\n"
          ]
        }
      ]
    },
    {
      "cell_type": "markdown",
      "source": [
        "书中提到了一个相当有用的**技巧**：例如在一个电子邮件地址的集合（haystack）中，我们要维护一个较小的电子邮件地址集合（needles），然后求出neeldls中有多少地址同时也出现在了heystack。"
      ],
      "metadata": {
        "id": "VIt5fVU3h7Ph"
      }
    },
    {
      "cell_type": "code",
      "source": [
        "needles = {1,2,3,4,5,6}\n",
        "haystack = {4,5,6,7,8,9,0}\n",
        "#实现示例3-10\n",
        "found = len(needles&haystack)\n",
        "print(\"found：\",found)"
      ],
      "metadata": {
        "colab": {
          "base_uri": "https://localhost:8080/"
        },
        "id": "4vjFcZlYJXOH",
        "outputId": "b74487a0-5a03-4838-f9bc-0c084f777e74"
      },
      "execution_count": 6,
      "outputs": [
        {
          "output_type": "stream",
          "name": "stdout",
          "text": [
            "found： 3\n"
          ]
        }
      ]
    },
    {
      "cell_type": "code",
      "source": [
        "#实现示例3-11（作用相同，但是速度相对较慢）\n",
        "found=0\n",
        "for n in needles:\n",
        "  if n in haystack:\n",
        "    found+=1\n",
        "print(\"found：\",found) "
      ],
      "metadata": {
        "colab": {
          "base_uri": "https://localhost:8080/"
        },
        "id": "h_g1YVNvjBDq",
        "outputId": "d064355f-45fe-482f-8cb5-1b85b652e692"
      },
      "execution_count": 11,
      "outputs": [
        {
          "output_type": "stream",
          "name": "stdout",
          "text": [
            "found： 3\n"
          ]
        }
      ]
    },
    {
      "cell_type": "markdown",
      "source": [
        "- 示例3-10要求两个对象都是集合\n",
        "- 示例3-11要求两个都是可迭代对象\n",
        "可以通过下面方法来拓展使用方法，实现能**兼顾**3-10的运行速度和3-11的适用范围的写法："
      ],
      "metadata": {
        "id": "cGDaNeAWjAc2"
      }
    },
    {
      "cell_type": "code",
      "source": [
        "#方法1\n",
        "found = len(set(needles)&set(haystack))\n",
        "print(\"found1：\",found)\n",
        "#方法2\n",
        "found = len(set(needles).intersection(haystack))\n",
        "print(\"found2：\",found)"
      ],
      "metadata": {
        "colab": {
          "base_uri": "https://localhost:8080/"
        },
        "id": "-GIUFv3zjw4-",
        "outputId": "4df07dcb-27f8-43c3-a0bb-e48450e5d48d"
      },
      "execution_count": 10,
      "outputs": [
        {
          "output_type": "stream",
          "name": "stdout",
          "text": [
            "found1： 3\n",
            "found2： 3\n"
          ]
        }
      ]
    },
    {
      "cell_type": "markdown",
      "source": [
        "注意关于字典与集合，在**空集合**和**空字典**中有一个和细微的区别：\n"
      ],
      "metadata": {
        "id": "NouA2lHbltco"
      }
    },
    {
      "cell_type": "code",
      "source": [
        "s = {1}\n",
        "print(\"s\",type(s))\n",
        "s.pop()\n",
        "print(s)\n",
        "d = {}\n",
        "print(\"d:\",type(d))"
      ],
      "metadata": {
        "colab": {
          "base_uri": "https://localhost:8080/"
        },
        "id": "Idr3ph1ak9KH",
        "outputId": "1f68e5bf-3b7f-41cb-adbb-f2fa84427592"
      },
      "execution_count": 15,
      "outputs": [
        {
          "output_type": "stream",
          "name": "stdout",
          "text": [
            "s <class 'set'>\n",
            "set()\n",
            "d: <class 'dict'>\n"
          ]
        }
      ]
    },
    {
      "cell_type": "markdown",
      "source": [
        "###字典中的散列表\n",
        "散列表其实是一个稀疏数组（总是有空白元素的数组成为稀疏数组）。散列表的单元通常叫做**表元（bucket）**。在字典dict的散列表当中，每个键值对都占用一个表元，每个表元都有两个部分，一个是对键的引用，另一个是对值的引用。因为所有的表元大小一致，所以可以通过便宜量来读取某个表元。\n",
        "\n",
        "一个散列表他会**保持稀疏状态**，因为python设法保证大概有三分之一的表元是空的，在快达到阈值的时候，会将原有的散列表复制到更大的空间中。\n",
        "书本上在这部分解释了\n",
        "- ><1>python在dict和set的效率有多高\n",
        "- ><2>为什么它们是无序的\n",
        "- ><3>为什么并不是所有的Python对象都可以当作dict的键和set里的元素\n",
        "- ><4>为什么dict的键和set的元素的顺序是根据他们被添加的次序而定的，以及为什么映射在对象的生命周期中，这个顺序是一成不变的吗\n",
        "- ><5>为什么不应该在迭代循环dict或者set的同时往里添加元素。"
      ],
      "metadata": {
        "id": "v1SCcFb2pgBy"
      }
    }
  ]
}