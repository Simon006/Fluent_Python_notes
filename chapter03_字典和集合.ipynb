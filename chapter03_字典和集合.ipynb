{
  "nbformat": 4,
  "nbformat_minor": 0,
  "metadata": {
    "colab": {
      "name": "chapter03-字典和集合.ipynb",
      "provenance": [],
      "collapsed_sections": [],
      "authorship_tag": "ABX9TyOYqQZeKLpcrfoSC9PzYNjC",
      "include_colab_link": true
    },
    "kernelspec": {
      "name": "python3",
      "display_name": "Python 3"
    },
    "language_info": {
      "name": "python"
    }
  },
  "cells": [
    {
      "cell_type": "markdown",
      "metadata": {
        "id": "view-in-github",
        "colab_type": "text"
      },
      "source": [
        "<a href=\"https://colab.research.google.com/github/Simon006/Fluent_Python_notes/blob/main/chapter03_%E5%AD%97%E5%85%B8%E5%92%8C%E9%9B%86%E5%90%88.ipynb\" target=\"_parent\"><img src=\"https://colab.research.google.com/assets/colab-badge.svg\" alt=\"Open In Colab\"/></a>"
      ]
    },
    {
      "cell_type": "markdown",
      "source": [
        "- [ ] 字典\n",
        "字典（dict）类型是Python语言的基石，应用于模块的**命名空间**，实例的**属性**，函数的**关键字参数**等地方。字典类型性能出众的根本原因是**散列表**。\n",
        " - > 字典这个数据结构活跃在所有 Python 程序的背后，即便你的源码里并没有直接用到它。——A. M. Kuchling\n",
        "\n",
        "Python标准库里面的所有映射类型都是利用dict来实现的，因此他们有个共同点，即只有可散列的数据类型采用用作这些映射里的**键**。（注意值不需要是可散列的数据类型）\n"
      ],
      "metadata": {
        "id": "tfAeq3UAUh7c"
      }
    },
    {
      "cell_type": "code",
      "source": [
        "#字典的等价构建\n",
        "a = dict(one=1,two=2,three=3)\n",
        "b = {'one':1,'two':2,'three':3}\n",
        "c = dict(zip(['one','two','three'],[1,2,3]))\n",
        "#zip方法\n",
        "d = dict([('one',1),('two',2),('three',3)])\n",
        "#列表作为参数\n",
        "e = dict({'three':3,'one':1,'two':2})     \n",
        "#注意这里尝试了不一样的顺序\n",
        "print(a==b==c==d==e)"
      ],
      "metadata": {
        "id": "tZDjepUVVPPS",
        "colab": {
          "base_uri": "https://localhost:8080/"
        },
        "outputId": "f2f5f3fa-cd6e-447b-d7fc-ed07efab4d85"
      },
      "execution_count": null,
      "outputs": [
        {
          "output_type": "stream",
          "name": "stdout",
          "text": [
            "True\n"
          ]
        }
      ]
    },
    {
      "cell_type": "markdown",
      "source": [
        "- [ ] 字典推导\n",
        "可以从任何键值对作为元素的可迭代对象中构建字典"
      ],
      "metadata": {
        "id": "ewEQCjXZ4OlN"
      }
    },
    {
      "cell_type": "code",
      "source": [
        "DIAL_CODES = [\n",
        "    (86,'China'),\n",
        "    (91,'India'),\n",
        "    (1,'United States'),\n",
        "    (55,'Brazil'),\n",
        "    (92,'Pakistan'),\n",
        "    (880,'Bangladesh'),\n",
        "    (234,'Nigeria'),\n",
        "    (7,'Russia'),\n",
        "    (81,'Japan')          \n",
        "]\n",
        "\n",
        "country_code = {country:code for code , country in DIAL_CODES}\n",
        "print(country_code)"
      ],
      "metadata": {
        "colab": {
          "base_uri": "https://localhost:8080/"
        },
        "id": "lgbw_W7A3XwH",
        "outputId": "c88ee1c8-0f6a-4243-827d-da230acfe011"
      },
      "execution_count": null,
      "outputs": [
        {
          "output_type": "stream",
          "name": "stdout",
          "text": [
            "{'China': 86, 'India': 91, 'United States': 1, 'Brazil': 55, 'Pakistan': 92, 'Bangladesh': 880, 'Nigeria': 234, 'Russia': 7, 'Japan': 81}\n"
          ]
        }
      ]
    },
    {
      "cell_type": "markdown",
      "source": [
        "下面我们来补充说明字典键的**可散列对象**是什么,散列对象的生命周期中，他的散列值是不变的，通常有一个哈希值对应，通过\\_\\_hash\\_\\_( )方法实现。另外可散列对象还有\\_\\_qe\\_\\_( )方法，使得散列对象可以和其他键（其他散列对象）比较。"
      ],
      "metadata": {
        "id": "zY1ruoQvkYrG"
      }
    },
    {
      "cell_type": "code",
      "source": [
        "#如果两个对象是一样的，相等的，那么他们的散列值一样\n",
        "tt = (1,2,3,(2,3))\n",
        "print(hash(tt))\n",
        "\n",
        "tt1 =(1,2,3,frozenset([30,40]))\n",
        "print(hash(tt1))\n"
      ],
      "metadata": {
        "colab": {
          "base_uri": "https://localhost:8080/"
        },
        "id": "muWNyQMI8KUf",
        "outputId": "4e195078-7654-42b6-e382-dcd76190d219"
      },
      "execution_count": null,
      "outputs": [
        {
          "output_type": "stream",
          "name": "stdout",
          "text": [
            "2374068127351259669\n",
            "-478530012052215447\n"
          ]
        }
      ]
    },
    {
      "cell_type": "markdown",
      "source": [
        "[30,40]本身不是可散列对象，不加frozenset的话tt1就没有hash值可对应，改用frozeset之后整体tt1成为一个可散列对象。"
      ],
      "metadata": {
        "id": "cZyEAOeYr0OG"
      }
    },
    {
      "cell_type": "code",
      "source": [
        "print(a.items())\n",
        "#返回a中所有键值对\n",
        "print(a.keys())\n",
        "#返回a中的键\n",
        "print(a.values())\n",
        "#返回所有值\n",
        "for ai in a:\n",
        "  print(ai)\n",
        "  print(a[ai])    \n",
        "#本质上调用了__getitem__()方法"
      ],
      "metadata": {
        "colab": {
          "base_uri": "https://localhost:8080/"
        },
        "id": "WWGndszrmASe",
        "outputId": "d460392d-4cee-4d41-b2ec-6e1caf94b987"
      },
      "execution_count": null,
      "outputs": [
        {
          "output_type": "stream",
          "name": "stdout",
          "text": [
            "dict_items([('one', 1), ('two', 2), ('three', 3)])\n",
            "dict_keys(['one', 'two', 'three'])\n",
            "dict_values([1, 2, 3])\n",
            "one\n",
            "1\n",
            "two\n",
            "2\n",
            "three\n",
            "3\n"
          ]
        }
      ]
    },
    {
      "cell_type": "markdown",
      "source": [
        "- [ ] keys（）方法返回的是一个视图。"
      ],
      "metadata": {
        "id": "itJIvK3zvJ8n"
      }
    },
    {
      "cell_type": "code",
      "source": [
        "import sys,os \n",
        "print(sys.argv)\n",
        "print(len(sys.argv))\n",
        "os.system(sys.argv[1])"
      ],
      "metadata": {
        "colab": {
          "base_uri": "https://localhost:8080/"
        },
        "id": "_VA8LuMxw2bU",
        "outputId": "b12d71a3-d4a1-44b1-ad46-5dc2d45ad7a6"
      },
      "execution_count": null,
      "outputs": [
        {
          "output_type": "stream",
          "name": "stdout",
          "text": [
            "['/usr/local/lib/python3.7/dist-packages/ipykernel_launcher.py', '-f', '/root/.local/share/jupyter/runtime/kernel-ce17770f-d31f-4b92-a159-62f1abff0025.json']\n",
            "3\n"
          ]
        },
        {
          "output_type": "execute_result",
          "data": {
            "text/plain": [
              "512"
            ]
          },
          "metadata": {},
          "execution_count": 38
        }
      ]
    },
    {
      "cell_type": "code",
      "source": [
        "# adapted from Alex Martelli's example in \"Re-learning Python\"\n",
        "import sys\n",
        "import re\n",
        "\n",
        "WORD_RE = re.compile(r'\\w+')\n",
        "\n",
        "index = {}\n",
        "with open(sys.argv[0], encoding='utf-8') as fp:\n",
        "    for line_no, line in enumerate(fp, 1):\n",
        "        for match in WORD_RE.finditer(line):\n",
        "            word = match.group()\n",
        "            column_no = match.start()+1\n",
        "            location = (line_no, column_no)\n",
        "            # this is ugly; coded like this to make a point\n",
        "            occurrences = index.get(word, [])      # <1>\n",
        "            occurrences.append(location)          # <2>\n",
        "            index[word] = occurrences          # <3>\n",
        "\n",
        "# print in alphabetical order\n",
        "for word in sorted(index, key=str.upper):  #           <4>\n",
        "    print(word, index[word])\n",
        "# END INDEX0"
      ],
      "metadata": {
        "colab": {
          "base_uri": "https://localhost:8080/"
        },
        "id": "g6TEyCetsmWq",
        "outputId": "21e7118a-e67c-4566-9bcf-2c491460baf9"
      },
      "execution_count": null,
      "outputs": [
        {
          "output_type": "stream",
          "name": "stdout",
          "text": [
            "0 [(12, 17), (13, 22)]\n",
            "added [(11, 15)]\n",
            "after [(4, 1)]\n",
            "an [(1, 30)]\n",
            "app [(15, 40), (16, 5)]\n",
            "as [(15, 37)]\n",
            "avoid [(3, 55)]\n",
            "back [(11, 21)]\n",
            "by [(11, 26)]\n",
            "can [(3, 51)]\n",
            "cwd [(4, 20)]\n",
            "CWD [(10, 18)]\n",
            "del [(13, 9)]\n",
            "doing [(3, 61)]\n",
            "Entry [(1, 4)]\n",
            "for [(1, 16)]\n",
            "from [(3, 18), (4, 24), (10, 22), (15, 5)]\n",
            "if [(9, 1), (12, 5)]\n",
            "import [(7, 1), (15, 20)]\n",
            "imports [(3, 67)]\n",
            "init_path [(11, 49)]\n",
            "InteractiveShellApp [(11, 29)]\n",
            "ipykernel [(3, 27), (15, 10)]\n",
            "IPython [(1, 33)]\n",
            "is [(3, 6), (11, 12)]\n",
            "kernel [(1, 41)]\n",
            "kernelapp [(15, 27)]\n",
            "launching [(1, 20)]\n",
            "launch_new_instance [(16, 9)]\n",
            "load [(10, 45)]\n",
            "package [(3, 37)]\n",
            "path [(4, 33), (10, 31), (12, 12), (13, 17)]\n",
            "point [(1, 10)]\n",
            "Remove [(10, 7)]\n",
            "removing [(4, 7)]\n",
            "separate [(3, 9)]\n",
            "so [(3, 45)]\n",
            "stuff [(10, 50)]\n",
            "sys [(4, 29), (7, 8), (10, 27), (12, 8), (13, 13)]\n",
            "the [(3, 23), (4, 16), (10, 14)]\n",
            "This [(3, 1), (11, 7)]\n",
            "until [(3, 75)]\n",
            "we [(3, 48), (10, 42)]\n",
            "while [(10, 36)]\n",
            "__main__ [(9, 17)]\n",
            "__name__ [(9, 4)]\n"
          ]
        }
      ]
    },
    {
      "cell_type": "markdown",
      "source": [
        "- <1> 提取word出现的情况，若没有该键，就返回[ ] \n",
        "\n",
        "- <2> 把单词新出现的位置添加到列表的后面\n",
        "\n",
        "- <3> 把新的列表放回字典中，这里涉及到有一次查询操作。\n",
        "\n",
        "- <4> sorted函数的key=参数没有调用str.upper,但把这个方法的引用传递给了sorted函数，这样在排序的时候，单词会被规范成统一的格式。 "
      ],
      "metadata": {
        "id": "UI48eKcey9nJ"
      }
    },
    {
      "cell_type": "code",
      "source": [
        "# BEGIN INDEX\n",
        "\"\"\"Build an index mapping word -> list of occurrences\"\"\"\n",
        "\n",
        "import sys\n",
        "import re\n",
        "\n",
        "WORD_RE = re.compile(r'\\w+')\n",
        "\n",
        "index = {}\n",
        "with open(sys.argv[0], encoding='utf-8') as fp:\n",
        "    for line_no, line in enumerate(fp, 1):\n",
        "        for match in WORD_RE.finditer(line):\n",
        "            word = match.group()\n",
        "            column_no = match.start()+1\n",
        "            location = (line_no, column_no)\n",
        "            index.setdefault(word, []).append(location)  # <1>\n",
        "\n",
        "# print in alphabetical order\n",
        "for word in sorted(index, key=str.upper):\n",
        "    print(word, index[word])\n",
        "# END INDEX"
      ],
      "metadata": {
        "colab": {
          "base_uri": "https://localhost:8080/"
        },
        "id": "-aPP2SDLy9Kh",
        "outputId": "d19f504c-5213-4798-ae9a-e5f18f69675d"
      },
      "execution_count": null,
      "outputs": [
        {
          "output_type": "stream",
          "name": "stdout",
          "text": [
            "0 [(12, 17), (13, 22)]\n",
            "added [(11, 15)]\n",
            "after [(4, 1)]\n",
            "an [(1, 30)]\n",
            "app [(15, 40), (16, 5)]\n",
            "as [(15, 37)]\n",
            "avoid [(3, 55)]\n",
            "back [(11, 21)]\n",
            "by [(11, 26)]\n",
            "can [(3, 51)]\n",
            "cwd [(4, 20)]\n",
            "CWD [(10, 18)]\n",
            "del [(13, 9)]\n",
            "doing [(3, 61)]\n",
            "Entry [(1, 4)]\n",
            "for [(1, 16)]\n",
            "from [(3, 18), (4, 24), (10, 22), (15, 5)]\n",
            "if [(9, 1), (12, 5)]\n",
            "import [(7, 1), (15, 20)]\n",
            "imports [(3, 67)]\n",
            "init_path [(11, 49)]\n",
            "InteractiveShellApp [(11, 29)]\n",
            "ipykernel [(3, 27), (15, 10)]\n",
            "IPython [(1, 33)]\n",
            "is [(3, 6), (11, 12)]\n",
            "kernel [(1, 41)]\n",
            "kernelapp [(15, 27)]\n",
            "launching [(1, 20)]\n",
            "launch_new_instance [(16, 9)]\n",
            "load [(10, 45)]\n",
            "package [(3, 37)]\n",
            "path [(4, 33), (10, 31), (12, 12), (13, 17)]\n",
            "point [(1, 10)]\n",
            "Remove [(10, 7)]\n",
            "removing [(4, 7)]\n",
            "separate [(3, 9)]\n",
            "so [(3, 45)]\n",
            "stuff [(10, 50)]\n",
            "sys [(4, 29), (7, 8), (10, 27), (12, 8), (13, 13)]\n",
            "the [(3, 23), (4, 16), (10, 14)]\n",
            "This [(3, 1), (11, 7)]\n",
            "until [(3, 75)]\n",
            "we [(3, 48), (10, 42)]\n",
            "while [(10, 36)]\n",
            "__main__ [(9, 17)]\n",
            "__name__ [(9, 4)]\n"
          ]
        }
      ]
    },
    {
      "cell_type": "markdown",
      "source": [
        "- <1> 获取单词的出现情况列表，加入不存在，就把单词和一个空列表放进映射，然后返回空列表，这样可以减少一次查找该表来更新参数的情况。\n",
        "\n",
        "- 本质上如下："
      ],
      "metadata": {
        "id": "7YMQ6iGH0pmZ"
      }
    },
    {
      "cell_type": "code",
      "source": [
        "key = 'four'\n",
        "#注意key必须是可散列对象\n",
        "my_dict = dict(one=1,two=2,three=3)\n",
        "new_value = None\n",
        "my_dict.setdefault(key,[]).append(new_value)\n",
        "print(my_dict)"
      ],
      "metadata": {
        "colab": {
          "base_uri": "https://localhost:8080/"
        },
        "id": "t6g8M7AQyaad",
        "outputId": "9db93239-5822-4f4a-d34b-7ec44d80cf87"
      },
      "execution_count": null,
      "outputs": [
        {
          "output_type": "stream",
          "name": "stdout",
          "text": [
            "{'one': 1, 'two': 2, 'three': 3, 'four': [None]}\n"
          ]
        }
      ]
    },
    {
      "cell_type": "code",
      "source": [
        "key = 'four'\n",
        "#注意key必须是可散列对象\n",
        "my_dict = dict(one=1,two=2,three=3)\n",
        "if key not in my_dict:\n",
        "  my_dict[key] = []\n",
        "my_dict[key].append(new_value)  \n",
        "print(my_dict)"
      ],
      "metadata": {
        "colab": {
          "base_uri": "https://localhost:8080/"
        },
        "id": "5MVeRTJh1TmH",
        "outputId": "497c467d-caa6-45a7-8fe3-88acb03ed283"
      },
      "execution_count": null,
      "outputs": [
        {
          "output_type": "stream",
          "name": "stdout",
          "text": [
            "{'one': 1, 'two': 2, 'three': 3, 'four': [None]}\n"
          ]
        }
      ]
    },
    {
      "cell_type": "markdown",
      "source": [
        "- [ ] 上两种代码写法不一样，但是做的事情一样，但是后者至少需要两次键查询，在键不存在的时候达到三次，但是**setdefault**只需要一次键查询就可以完成整个操作。\n",
        "- [ ] 本质上来说，setdefault方法可以用来更新字典里面存放的可变值，比如说：列表，从而**避免了更新字典的时候需要重复键搜索**。"
      ],
      "metadata": {
        "id": "QW2-x60_2hPR"
      }
    },
    {
      "cell_type": "code",
      "source": [
        "my_dict.get('six','N/A')"
      ],
      "metadata": {
        "colab": {
          "base_uri": "https://localhost:8080/",
          "height": 35
        },
        "id": "wgcu8fUR2dS0",
        "outputId": "7a8f6bf6-ab77-4f97-b486-e311c33018c6"
      },
      "execution_count": null,
      "outputs": [
        {
          "output_type": "execute_result",
          "data": {
            "text/plain": [
              "'N/A'"
            ],
            "application/vnd.google.colaboratory.intrinsic+json": {
              "type": "string"
            }
          },
          "metadata": {},
          "execution_count": 54
        }
      ]
    },
    {
      "cell_type": "code",
      "source": [
        "#具体原理\n",
        "\n",
        " # BEGIN STRKEYDICT0\n",
        "class StrKeyDict0(dict):  # <1>\n",
        "\n",
        "    def __missing__(self, key):\n",
        "        if isinstance(key, str):  # <2>\n",
        "            raise KeyError(key)\n",
        "        return self[str(key)]  # <3>\n",
        "\n",
        "    def get(self, key, default=None):\n",
        "        try:\n",
        "            return self[key]  # <4>\n",
        "        except KeyError:\n",
        "            return default  # <5>\n",
        "\n",
        "    def __contains__(self, key):\n",
        "        return key in self.keys() or str(key) in self.keys()  # <6>"
      ],
      "metadata": {
        "id": "1kDCPbr24KKp"
      },
      "execution_count": null,
      "outputs": []
    },
    {
      "cell_type": "markdown",
      "source": [
        "- [ ] <1> StrKeyDict0 继承了 dict\n",
        "- [ ] <2> 找不到键本身就是字符串，抛出KeyError\n",
        "- [ ] <3> 找不到的键不是字符串，就转换成字符串再查找\n",
        "- [ ] <4> get方法把**查找工作**用**self[key]的形式**委托给\\_\\_geriten\\_\\_,这样再宣布查找十百千，可以通过\\_\\_missing\\_\\_再给某一键一个机会\n",
        "- [ ] <5> 若抛出KeyError则说明\\_\\_missing\\_\\_也失败了，返回default\n",
        "- [ ] <6> 先按照原本传入键的值来查找，如果没找到就用str（）方法转化成字符串再查找一次，例如 **k in d** 会调用到它"
      ],
      "metadata": {
        "id": "YZEB7gdC5umM"
      }
    },
    {
      "cell_type": "code",
      "source": [
        ""
      ],
      "metadata": {
        "id": "PcpBRTQo7Ix2"
      },
      "execution_count": null,
      "outputs": []
    }
  ]
}